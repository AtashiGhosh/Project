{
  "nbformat": 4,
  "nbformat_minor": 0,
  "metadata": {
    "colab": {
      "name": "svm with cv",
      "provenance": [],
      "collapsed_sections": [],
      "include_colab_link": true
    },
    "kernelspec": {
      "name": "python3",
      "display_name": "Python 3"
    },
    "language_info": {
      "name": "python"
    }
  },
  "cells": [
    {
      "cell_type": "markdown",
      "metadata": {
        "id": "view-in-github",
        "colab_type": "text"
      },
      "source": [
        "<a href=\"https://colab.research.google.com/github/AtashiGhosh/Project/blob/main/svm_with_cv.ipynb\" target=\"_parent\"><img src=\"https://colab.research.google.com/assets/colab-badge.svg\" alt=\"Open In Colab\"/></a>"
      ]
    },
    {
      "cell_type": "code",
      "metadata": {
        "colab": {
          "base_uri": "https://localhost:8080/"
        },
        "id": "uSS7a0OyOfHV",
        "outputId": "5b77820c-86a0-4430-afc1-ff6f5253c19a"
      },
      "source": [
        "from google.colab import drive\n",
        "drive.mount(\"/content/gdrive\")"
      ],
      "execution_count": null,
      "outputs": [
        {
          "output_type": "stream",
          "name": "stdout",
          "text": [
            "Mounted at /content/gdrive\n"
          ]
        }
      ]
    },
    {
      "cell_type": "code",
      "metadata": {
        "colab": {
          "base_uri": "https://localhost:8080/"
        },
        "id": "Qo3p1BsnOyJd",
        "outputId": "b0da2e7a-a974-485b-a4b3-40fb357f136a"
      },
      "source": [
        "import numpy as np\n",
        "import re\n",
        "import nltk\n",
        "nltk.download('wordnet')\n",
        "from sklearn.datasets import load_files\n",
        "nltk.download('stopwords')\n",
        "import pickle\n",
        "from nltk.corpus import stopwords"
      ],
      "execution_count": null,
      "outputs": [
        {
          "output_type": "stream",
          "name": "stdout",
          "text": [
            "[nltk_data] Downloading package wordnet to /root/nltk_data...\n",
            "[nltk_data]   Unzipping corpora/wordnet.zip.\n",
            "[nltk_data] Downloading package stopwords to /root/nltk_data...\n",
            "[nltk_data]   Unzipping corpora/stopwords.zip.\n"
          ]
        }
      ]
    },
    {
      "cell_type": "code",
      "metadata": {
        "id": "KmKwVPwgO5B0"
      },
      "source": [
        "movie_data = load_files(r\"/content/gdrive/My Drive/project/txt_sentoken\")"
      ],
      "execution_count": null,
      "outputs": []
    },
    {
      "cell_type": "code",
      "metadata": {
        "id": "73cbxU7lRTQr"
      },
      "source": [
        "X,y= movie_data.data,movie_data.target\n",
        "#print(y)"
      ],
      "execution_count": null,
      "outputs": []
    },
    {
      "cell_type": "code",
      "metadata": {
        "id": "1uX5pPg5RZob"
      },
      "source": [
        "documents=[]\n",
        "\n",
        "from nltk.stem import WordNetLemmatizer\n",
        "\n",
        "stemmer= WordNetLemmatizer()\n",
        "\n",
        "for sen in range(0,len(X)):\n",
        "  document=re.sub(r'\\W',' ',str(X[sen]))\n",
        "  document=re.sub(r'\\s+[a-zA-Z]\\s+',' ',document)\n",
        "  document=re.sub(r'\\^[a-zA-Z]\\s+',' ',document)\n",
        "  document=re.sub(r'\\s+',' ',document,flags=re.I)\n",
        "  document=document.lower()\n",
        "  document=document.split()\n",
        "  document=[stemmer.lemmatize(word)for word in document]\n",
        "  document=' '.join(document)\n",
        "\n",
        "  documents.append(document)"
      ],
      "execution_count": null,
      "outputs": []
    },
    {
      "cell_type": "code",
      "metadata": {
        "id": "XKt-bxokRfAC"
      },
      "source": [
        "from sklearn.feature_extraction.text import CountVectorizer\n",
        "vectorizer=CountVectorizer(max_features=1500,min_df=5,max_df=0.7,stop_words=stopwords.words('english'))\n",
        "X=vectorizer.fit_transform(documents).toarray()"
      ],
      "execution_count": null,
      "outputs": []
    },
    {
      "cell_type": "code",
      "metadata": {
        "id": "A_fsvjqtRjAG"
      },
      "source": [
        "from sklearn.model_selection import train_test_split\n",
        "X_train,X_test,y_train,y_test=train_test_split(X,y,test_size=0.2,random_state=0)"
      ],
      "execution_count": null,
      "outputs": []
    },
    {
      "cell_type": "code",
      "metadata": {
        "id": "ugjy547LRsRo"
      },
      "source": [
        "from sklearn import svm\n",
        "classifier=svm.SVC(kernel='linear')\n",
        "classifier.fit(X_train,y_train)\n",
        "\n",
        "y_pred=classifier.predict(X_test)"
      ],
      "execution_count": null,
      "outputs": []
    },
    {
      "cell_type": "code",
      "metadata": {
        "colab": {
          "base_uri": "https://localhost:8080/"
        },
        "id": "h0ek8MOJRvsS",
        "outputId": "8efedc77-6663-4b68-b7ad-e152253f772e"
      },
      "source": [
        "from sklearn.metrics import classification_report,confusion_matrix,accuracy_score\n",
        "\n",
        "print('Confusion Matrix:')\n",
        "print(confusion_matrix(y_test,y_pred))\n",
        "print('Classification Report:')\n",
        "print(classification_report(y_test,y_pred))\n",
        "print('Accuracy: ',accuracy_score(y_test,y_pred)*100,'%')"
      ],
      "execution_count": null,
      "outputs": [
        {
          "output_type": "stream",
          "name": "stdout",
          "text": [
            "Confusion Matrix:\n",
            "[[160  48]\n",
            " [ 36 156]]\n",
            "Classification Report:\n",
            "              precision    recall  f1-score   support\n",
            "\n",
            "           0       0.82      0.77      0.79       208\n",
            "           1       0.76      0.81      0.79       192\n",
            "\n",
            "    accuracy                           0.79       400\n",
            "   macro avg       0.79      0.79      0.79       400\n",
            "weighted avg       0.79      0.79      0.79       400\n",
            "\n",
            "Accuracy:  79.0 %\n"
          ]
        }
      ]
    },
    {
      "cell_type": "code",
      "metadata": {
        "colab": {
          "base_uri": "https://localhost:8080/"
        },
        "id": "7l7z6O8zR2y7",
        "outputId": "ade9fb8d-47ba-4ce4-8874-ffa822448354"
      },
      "source": [
        "from sklearn.model_selection import cross_val_score\n",
        "print(cross_val_score(classifier, X, y, cv=5))"
      ],
      "execution_count": null,
      "outputs": [
        {
          "output_type": "stream",
          "name": "stdout",
          "text": [
            "[0.7675 0.795  0.8075 0.8225 0.775 ]\n"
          ]
        }
      ]
    }
  ]
}